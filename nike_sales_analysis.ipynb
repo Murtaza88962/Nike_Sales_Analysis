{
 "cells": [
  {
   "cell_type": "code",
   "execution_count": 1,
   "id": "13459b07",
   "metadata": {},
   "outputs": [],
   "source": [
    "import pandas as pd\n",
    "import matplotlib.pyplot as plt\n",
    "import numpy as np\n",
    "import seaborn as sns"
   ]
  },
  {
   "cell_type": "code",
   "execution_count": 2,
   "id": "17a69e0f",
   "metadata": {},
   "outputs": [
    {
     "data": {
      "text/html": [
       "<div>\n",
       "<style scoped>\n",
       "    .dataframe tbody tr th:only-of-type {\n",
       "        vertical-align: middle;\n",
       "    }\n",
       "\n",
       "    .dataframe tbody tr th {\n",
       "        vertical-align: top;\n",
       "    }\n",
       "\n",
       "    .dataframe thead th {\n",
       "        text-align: right;\n",
       "    }\n",
       "</style>\n",
       "<table border=\"1\" class=\"dataframe\">\n",
       "  <thead>\n",
       "    <tr style=\"text-align: right;\">\n",
       "      <th></th>\n",
       "      <th>product_name</th>\n",
       "      <th>product_id</th>\n",
       "      <th>listing_price</th>\n",
       "      <th>sale_price</th>\n",
       "      <th>discount</th>\n",
       "      <th>discounted_sale_price</th>\n",
       "      <th>brand</th>\n",
       "      <th>description</th>\n",
       "      <th>rating</th>\n",
       "      <th>reviews</th>\n",
       "      <th>images</th>\n",
       "    </tr>\n",
       "  </thead>\n",
       "  <tbody>\n",
       "    <tr>\n",
       "      <th>0</th>\n",
       "      <td>Nike Air Max 90</td>\n",
       "      <td>CU3005-171</td>\n",
       "      <td>USD 0.00</td>\n",
       "      <td>USD 9,995.00</td>\n",
       "      <td>10.00%</td>\n",
       "      <td>USD 8,995.50</td>\n",
       "      <td>Nike</td>\n",
       "      <td>30 years after its original release, the Nike ...</td>\n",
       "      <td>0.0</td>\n",
       "      <td>0.0</td>\n",
       "      <td>[\"https://static.nike.com/a/images/t_PDP_1728_...</td>\n",
       "    </tr>\n",
       "    <tr>\n",
       "      <th>1</th>\n",
       "      <td>Nike Air Max 90</td>\n",
       "      <td>CU3004-176</td>\n",
       "      <td>USD 0.00</td>\n",
       "      <td>USD 9,995.00</td>\n",
       "      <td>5.00%</td>\n",
       "      <td>USD 9,495.25</td>\n",
       "      <td>Nike</td>\n",
       "      <td>30 years after its original release, the Nike ...</td>\n",
       "      <td>0.0</td>\n",
       "      <td>0.0</td>\n",
       "      <td>[\"https://static.nike.com/a/images/t_PDP_1728_...</td>\n",
       "    </tr>\n",
       "    <tr>\n",
       "      <th>2</th>\n",
       "      <td>Nike AF-1 Shadow SE</td>\n",
       "      <td>CQ3317-001</td>\n",
       "      <td>USD 0.00</td>\n",
       "      <td>USD 9,995.00</td>\n",
       "      <td>5.00%</td>\n",
       "      <td>USD 9,495.25</td>\n",
       "      <td>Nike</td>\n",
       "      <td>A fun, playful twist on a classic design, the ...</td>\n",
       "      <td>0.0</td>\n",
       "      <td>0.0</td>\n",
       "      <td>[\"https://static.nike.com/a/images/t_PDP_1728_...</td>\n",
       "    </tr>\n",
       "    <tr>\n",
       "      <th>3</th>\n",
       "      <td>Nike P-6000 Icon Clash</td>\n",
       "      <td>BV1021-007</td>\n",
       "      <td>USD 7,995.00</td>\n",
       "      <td>USD 5,597.00</td>\n",
       "      <td>0.00%</td>\n",
       "      <td>USD 5,597.00</td>\n",
       "      <td>Nike</td>\n",
       "      <td>A mash-up of Pegasus' past, the Nike P-6000 Ic...</td>\n",
       "      <td>4.7</td>\n",
       "      <td>10.0</td>\n",
       "      <td>[\"https://static.nike.com/a/images/t_PDP_1728_...</td>\n",
       "    </tr>\n",
       "    <tr>\n",
       "      <th>4</th>\n",
       "      <td>Nike P-6000 SE</td>\n",
       "      <td>CJ9585-600</td>\n",
       "      <td>USD 8,995.00</td>\n",
       "      <td>USD 6,297.00</td>\n",
       "      <td>5.00%</td>\n",
       "      <td>USD 5,982.15</td>\n",
       "      <td>Nike</td>\n",
       "      <td>A mash-up of Pegasus' past, the Nike P-6000 SE...</td>\n",
       "      <td>0.0</td>\n",
       "      <td>0.0</td>\n",
       "      <td>[\"https://static.nike.com/a/images/t_PDP_1728_...</td>\n",
       "    </tr>\n",
       "  </tbody>\n",
       "</table>\n",
       "</div>"
      ],
      "text/plain": [
       "             product_name  product_id listing_price    sale_price discount  \\\n",
       "0         Nike Air Max 90  CU3005-171      USD 0.00  USD 9,995.00   10.00%   \n",
       "1         Nike Air Max 90  CU3004-176      USD 0.00  USD 9,995.00    5.00%   \n",
       "2     Nike AF-1 Shadow SE  CQ3317-001      USD 0.00  USD 9,995.00    5.00%   \n",
       "3  Nike P-6000 Icon Clash  BV1021-007  USD 7,995.00  USD 5,597.00    0.00%   \n",
       "4          Nike P-6000 SE  CJ9585-600  USD 8,995.00  USD 6,297.00    5.00%   \n",
       "\n",
       "  discounted_sale_price brand  \\\n",
       "0          USD 8,995.50  Nike   \n",
       "1          USD 9,495.25  Nike   \n",
       "2          USD 9,495.25  Nike   \n",
       "3          USD 5,597.00  Nike   \n",
       "4          USD 5,982.15  Nike   \n",
       "\n",
       "                                         description  rating  reviews  \\\n",
       "0  30 years after its original release, the Nike ...     0.0      0.0   \n",
       "1  30 years after its original release, the Nike ...     0.0      0.0   \n",
       "2  A fun, playful twist on a classic design, the ...     0.0      0.0   \n",
       "3  A mash-up of Pegasus' past, the Nike P-6000 Ic...     4.7     10.0   \n",
       "4  A mash-up of Pegasus' past, the Nike P-6000 SE...     0.0      0.0   \n",
       "\n",
       "                                              images  \n",
       "0  [\"https://static.nike.com/a/images/t_PDP_1728_...  \n",
       "1  [\"https://static.nike.com/a/images/t_PDP_1728_...  \n",
       "2  [\"https://static.nike.com/a/images/t_PDP_1728_...  \n",
       "3  [\"https://static.nike.com/a/images/t_PDP_1728_...  \n",
       "4  [\"https://static.nike.com/a/images/t_PDP_1728_...  "
      ]
     },
     "execution_count": 2,
     "metadata": {},
     "output_type": "execute_result"
    }
   ],
   "source": [
    "nike_sale_data = pd.read_csv('nike_shoe_sales_data.csv')\n",
    "nike_manufacturing_data = pd.read_csv('nikeManufacturing.csv')\n",
    "nike_sale_data.head(5)\n"
   ]
  },
  {
   "cell_type": "code",
   "execution_count": 3,
   "id": "4c5353a4",
   "metadata": {},
   "outputs": [
    {
     "data": {
      "text/html": [
       "<div>\n",
       "<style scoped>\n",
       "    .dataframe tbody tr th:only-of-type {\n",
       "        vertical-align: middle;\n",
       "    }\n",
       "\n",
       "    .dataframe tbody tr th {\n",
       "        vertical-align: top;\n",
       "    }\n",
       "\n",
       "    .dataframe thead th {\n",
       "        text-align: right;\n",
       "    }\n",
       "</style>\n",
       "<table border=\"1\" class=\"dataframe\">\n",
       "  <thead>\n",
       "    <tr style=\"text-align: right;\">\n",
       "      <th></th>\n",
       "      <th>Factory Name</th>\n",
       "      <th>Factory Type</th>\n",
       "      <th>Product Type</th>\n",
       "      <th>Nike, Inc. Brand(s)</th>\n",
       "      <th>Supplier Group</th>\n",
       "      <th>City</th>\n",
       "      <th>State</th>\n",
       "      <th>Postal Code</th>\n",
       "      <th>Country/Region</th>\n",
       "      <th>Region</th>\n",
       "      <th>Total Workers</th>\n",
       "      <th>Line Workers</th>\n",
       "      <th>% Female Workers</th>\n",
       "      <th>% Migrant Workers</th>\n",
       "    </tr>\n",
       "  </thead>\n",
       "  <tbody>\n",
       "    <tr>\n",
       "      <th>0</th>\n",
       "      <td>A &amp; K DESIGNS, INC.</td>\n",
       "      <td>FINISHED GOODS</td>\n",
       "      <td>APPAREL</td>\n",
       "      <td>NIKE</td>\n",
       "      <td>A &amp; K DESIGNS</td>\n",
       "      <td>PORTLAND</td>\n",
       "      <td>OREGON</td>\n",
       "      <td>97220</td>\n",
       "      <td>United States of America</td>\n",
       "      <td>AMERICAS</td>\n",
       "      <td>130.0</td>\n",
       "      <td>90.0</td>\n",
       "      <td>71.00%</td>\n",
       "      <td>0.00%</td>\n",
       "    </tr>\n",
       "    <tr>\n",
       "      <th>1</th>\n",
       "      <td>ACODE SPORTING GOODS CO., LTD</td>\n",
       "      <td>FINISHED GOODS</td>\n",
       "      <td>EQUIPMENT</td>\n",
       "      <td>NIKE</td>\n",
       "      <td>NO GROUP (EQ)</td>\n",
       "      <td>VIETNAM</td>\n",
       "      <td>BÌNH DUONG</td>\n",
       "      <td>82617</td>\n",
       "      <td>Vietnam</td>\n",
       "      <td>SE ASIA</td>\n",
       "      <td>289.0</td>\n",
       "      <td>233.0</td>\n",
       "      <td>1.00%</td>\n",
       "      <td>0.40%</td>\n",
       "    </tr>\n",
       "    <tr>\n",
       "      <th>2</th>\n",
       "      <td>ADORA FOOTWEAR LIMITED</td>\n",
       "      <td>FINISHED GOODS</td>\n",
       "      <td>FOOTWEAR</td>\n",
       "      <td>Converse</td>\n",
       "      <td>HUALI</td>\n",
       "      <td>NINH BINH PROVINCE</td>\n",
       "      <td>NINH BÌNH</td>\n",
       "      <td>8000</td>\n",
       "      <td>Vietnam</td>\n",
       "      <td>SE ASIA</td>\n",
       "      <td>9056.0</td>\n",
       "      <td>8806.0</td>\n",
       "      <td>88.00%</td>\n",
       "      <td>0.00%</td>\n",
       "    </tr>\n",
       "    <tr>\n",
       "      <th>3</th>\n",
       "      <td>AJARA 1</td>\n",
       "      <td>FINISHED GOODS</td>\n",
       "      <td>APPAREL</td>\n",
       "      <td>NIKE</td>\n",
       "      <td>MILTEKS</td>\n",
       "      <td>KOBULETI</td>\n",
       "      <td>AJARIA</td>\n",
       "      <td>6200</td>\n",
       "      <td>Georgia</td>\n",
       "      <td>EMEA</td>\n",
       "      <td>1061.0</td>\n",
       "      <td>820.0</td>\n",
       "      <td>99.00%</td>\n",
       "      <td>0.00%</td>\n",
       "    </tr>\n",
       "    <tr>\n",
       "      <th>4</th>\n",
       "      <td>AJARA TEXTILE LTD</td>\n",
       "      <td>FINISHED GOODS</td>\n",
       "      <td>APPAREL</td>\n",
       "      <td>NIKE</td>\n",
       "      <td>MILTEKS</td>\n",
       "      <td>POTI</td>\n",
       "      <td>SAMEGRELO-ZEMO SVA</td>\n",
       "      <td>4400</td>\n",
       "      <td>Georgia</td>\n",
       "      <td>EMEA</td>\n",
       "      <td>1351.0</td>\n",
       "      <td>1111.0</td>\n",
       "      <td>96.00%</td>\n",
       "      <td>0.00%</td>\n",
       "    </tr>\n",
       "  </tbody>\n",
       "</table>\n",
       "</div>"
      ],
      "text/plain": [
       "                    Factory Name    Factory Type Product Type  \\\n",
       "0            A & K DESIGNS, INC.  FINISHED GOODS      APPAREL   \n",
       "1  ACODE SPORTING GOODS CO., LTD  FINISHED GOODS    EQUIPMENT   \n",
       "2         ADORA FOOTWEAR LIMITED  FINISHED GOODS     FOOTWEAR   \n",
       "3                        AJARA 1  FINISHED GOODS      APPAREL   \n",
       "4              AJARA TEXTILE LTD  FINISHED GOODS      APPAREL   \n",
       "\n",
       "  Nike, Inc. Brand(s) Supplier Group                City               State  \\\n",
       "0                NIKE  A & K DESIGNS            PORTLAND              OREGON   \n",
       "1                NIKE  NO GROUP (EQ)             VIETNAM          BÌNH DUONG   \n",
       "2            Converse          HUALI  NINH BINH PROVINCE           NINH BÌNH   \n",
       "3                NIKE        MILTEKS            KOBULETI              AJARIA   \n",
       "4                NIKE        MILTEKS                POTI  SAMEGRELO-ZEMO SVA   \n",
       "\n",
       "  Postal Code            Country/Region    Region  Total Workers  \\\n",
       "0       97220  United States of America  AMERICAS          130.0   \n",
       "1       82617                   Vietnam   SE ASIA          289.0   \n",
       "2        8000                   Vietnam   SE ASIA         9056.0   \n",
       "3        6200                   Georgia      EMEA         1061.0   \n",
       "4        4400                   Georgia      EMEA         1351.0   \n",
       "\n",
       "   Line Workers % Female Workers % Migrant Workers  \n",
       "0          90.0           71.00%             0.00%  \n",
       "1         233.0            1.00%             0.40%  \n",
       "2        8806.0           88.00%             0.00%  \n",
       "3         820.0           99.00%             0.00%  \n",
       "4        1111.0           96.00%             0.00%  "
      ]
     },
     "execution_count": 3,
     "metadata": {},
     "output_type": "execute_result"
    }
   ],
   "source": [
    "\n",
    "nike_manufacturing_data.head(5)"
   ]
  },
  {
   "cell_type": "code",
   "execution_count": 4,
   "id": "4ef71b7c",
   "metadata": {},
   "outputs": [
    {
     "data": {
      "text/plain": [
       "Factory Name            0\n",
       "Factory Type            0\n",
       "Product Type            0\n",
       "Nike, Inc. Brand(s)     0\n",
       "Supplier Group          0\n",
       "City                    1\n",
       "State                  26\n",
       "Postal Code            29\n",
       "Country/Region          0\n",
       "Region                  0\n",
       "Total Workers          50\n",
       "Line Workers           51\n",
       "% Female Workers        0\n",
       "% Migrant Workers       0\n",
       "dtype: int64"
      ]
     },
     "execution_count": 4,
     "metadata": {},
     "output_type": "execute_result"
    }
   ],
   "source": [
    "nike_manufacturing_data.isnull().sum()\n"
   ]
  },
  {
   "cell_type": "code",
   "execution_count": 5,
   "id": "ef39ffd3",
   "metadata": {},
   "outputs": [
    {
     "data": {
      "text/plain": [
       "product_name              1\n",
       "product_id                1\n",
       "listing_price             1\n",
       "sale_price                1\n",
       "discount                  1\n",
       "discounted_sale_price     4\n",
       "brand                     1\n",
       "description               4\n",
       "rating                    1\n",
       "reviews                   1\n",
       "images                   72\n",
       "dtype: int64"
      ]
     },
     "execution_count": 5,
     "metadata": {},
     "output_type": "execute_result"
    }
   ],
   "source": [
    "nike_sale_data.isnull().sum()"
   ]
  },
  {
   "cell_type": "code",
   "execution_count": 6,
   "id": "0100526c",
   "metadata": {},
   "outputs": [
    {
     "name": "stdout",
     "output_type": "stream",
     "text": [
      "<class 'pandas.core.frame.DataFrame'>\n",
      "RangeIndex: 528 entries, 0 to 527\n",
      "Data columns (total 14 columns):\n",
      " #   Column               Non-Null Count  Dtype  \n",
      "---  ------               --------------  -----  \n",
      " 0   Factory Name         528 non-null    object \n",
      " 1   Factory Type         528 non-null    object \n",
      " 2   Product Type         528 non-null    object \n",
      " 3   Nike, Inc. Brand(s)  528 non-null    object \n",
      " 4   Supplier Group       528 non-null    object \n",
      " 5   City                 527 non-null    object \n",
      " 6   State                502 non-null    object \n",
      " 7   Postal Code          499 non-null    object \n",
      " 8   Country/Region       528 non-null    object \n",
      " 9   Region               528 non-null    object \n",
      " 10  Total Workers        478 non-null    float64\n",
      " 11  Line Workers         477 non-null    float64\n",
      " 12  % Female Workers     528 non-null    object \n",
      " 13  % Migrant Workers    528 non-null    object \n",
      "dtypes: float64(2), object(12)\n",
      "memory usage: 57.9+ KB\n"
     ]
    }
   ],
   "source": [
    "nike_manufacturing_data.info()"
   ]
  },
  {
   "cell_type": "code",
   "execution_count": 7,
   "id": "21b322d0",
   "metadata": {},
   "outputs": [
    {
     "name": "stdout",
     "output_type": "stream",
     "text": [
      "<class 'pandas.core.frame.DataFrame'>\n",
      "RangeIndex: 644 entries, 0 to 643\n",
      "Data columns (total 11 columns):\n",
      " #   Column                 Non-Null Count  Dtype  \n",
      "---  ------                 --------------  -----  \n",
      " 0   product_name           643 non-null    object \n",
      " 1   product_id             643 non-null    object \n",
      " 2   listing_price          643 non-null    object \n",
      " 3   sale_price             643 non-null    object \n",
      " 4   discount               643 non-null    object \n",
      " 5   discounted_sale_price  640 non-null    object \n",
      " 6   brand                  643 non-null    object \n",
      " 7   description            640 non-null    object \n",
      " 8   rating                 643 non-null    float64\n",
      " 9   reviews                643 non-null    float64\n",
      " 10  images                 572 non-null    object \n",
      "dtypes: float64(2), object(9)\n",
      "memory usage: 55.5+ KB\n"
     ]
    }
   ],
   "source": [
    "nike_sale_data.info()"
   ]
  },
  {
   "cell_type": "code",
   "execution_count": 8,
   "id": "9070d488",
   "metadata": {},
   "outputs": [
    {
     "data": {
      "text/html": [
       "<div>\n",
       "<style scoped>\n",
       "    .dataframe tbody tr th:only-of-type {\n",
       "        vertical-align: middle;\n",
       "    }\n",
       "\n",
       "    .dataframe tbody tr th {\n",
       "        vertical-align: top;\n",
       "    }\n",
       "\n",
       "    .dataframe thead th {\n",
       "        text-align: right;\n",
       "    }\n",
       "</style>\n",
       "<table border=\"1\" class=\"dataframe\">\n",
       "  <thead>\n",
       "    <tr style=\"text-align: right;\">\n",
       "      <th></th>\n",
       "      <th>Total Workers</th>\n",
       "      <th>Line Workers</th>\n",
       "    </tr>\n",
       "  </thead>\n",
       "  <tbody>\n",
       "    <tr>\n",
       "      <th>count</th>\n",
       "      <td>478.000000</td>\n",
       "      <td>477.000000</td>\n",
       "    </tr>\n",
       "    <tr>\n",
       "      <th>mean</th>\n",
       "      <td>2209.198745</td>\n",
       "      <td>1884.635220</td>\n",
       "    </tr>\n",
       "    <tr>\n",
       "      <th>std</th>\n",
       "      <td>3798.251053</td>\n",
       "      <td>3422.201835</td>\n",
       "    </tr>\n",
       "    <tr>\n",
       "      <th>min</th>\n",
       "      <td>0.000000</td>\n",
       "      <td>0.000000</td>\n",
       "    </tr>\n",
       "    <tr>\n",
       "      <th>25%</th>\n",
       "      <td>164.500000</td>\n",
       "      <td>115.000000</td>\n",
       "    </tr>\n",
       "    <tr>\n",
       "      <th>50%</th>\n",
       "      <td>840.000000</td>\n",
       "      <td>624.000000</td>\n",
       "    </tr>\n",
       "    <tr>\n",
       "      <th>75%</th>\n",
       "      <td>2299.250000</td>\n",
       "      <td>1938.000000</td>\n",
       "    </tr>\n",
       "    <tr>\n",
       "      <th>max</th>\n",
       "      <td>26853.000000</td>\n",
       "      <td>25413.000000</td>\n",
       "    </tr>\n",
       "  </tbody>\n",
       "</table>\n",
       "</div>"
      ],
      "text/plain": [
       "       Total Workers  Line Workers\n",
       "count     478.000000    477.000000\n",
       "mean     2209.198745   1884.635220\n",
       "std      3798.251053   3422.201835\n",
       "min         0.000000      0.000000\n",
       "25%       164.500000    115.000000\n",
       "50%       840.000000    624.000000\n",
       "75%      2299.250000   1938.000000\n",
       "max     26853.000000  25413.000000"
      ]
     },
     "execution_count": 8,
     "metadata": {},
     "output_type": "execute_result"
    }
   ],
   "source": [
    "nike_manufacturing_data.describe()"
   ]
  },
  {
   "cell_type": "code",
   "execution_count": 9,
   "id": "9fb0c5d0",
   "metadata": {},
   "outputs": [
    {
     "data": {
      "text/html": [
       "<div>\n",
       "<style scoped>\n",
       "    .dataframe tbody tr th:only-of-type {\n",
       "        vertical-align: middle;\n",
       "    }\n",
       "\n",
       "    .dataframe tbody tr th {\n",
       "        vertical-align: top;\n",
       "    }\n",
       "\n",
       "    .dataframe thead th {\n",
       "        text-align: right;\n",
       "    }\n",
       "</style>\n",
       "<table border=\"1\" class=\"dataframe\">\n",
       "  <thead>\n",
       "    <tr style=\"text-align: right;\">\n",
       "      <th></th>\n",
       "      <th>rating</th>\n",
       "      <th>reviews</th>\n",
       "    </tr>\n",
       "  </thead>\n",
       "  <tbody>\n",
       "    <tr>\n",
       "      <th>count</th>\n",
       "      <td>643.000000</td>\n",
       "      <td>643.000000</td>\n",
       "    </tr>\n",
       "    <tr>\n",
       "      <th>mean</th>\n",
       "      <td>2.734837</td>\n",
       "      <td>7.181960</td>\n",
       "    </tr>\n",
       "    <tr>\n",
       "      <th>std</th>\n",
       "      <td>2.137756</td>\n",
       "      <td>15.968315</td>\n",
       "    </tr>\n",
       "    <tr>\n",
       "      <th>min</th>\n",
       "      <td>0.000000</td>\n",
       "      <td>0.000000</td>\n",
       "    </tr>\n",
       "    <tr>\n",
       "      <th>25%</th>\n",
       "      <td>0.000000</td>\n",
       "      <td>0.000000</td>\n",
       "    </tr>\n",
       "    <tr>\n",
       "      <th>50%</th>\n",
       "      <td>3.800000</td>\n",
       "      <td>1.000000</td>\n",
       "    </tr>\n",
       "    <tr>\n",
       "      <th>75%</th>\n",
       "      <td>4.600000</td>\n",
       "      <td>6.000000</td>\n",
       "    </tr>\n",
       "    <tr>\n",
       "      <th>max</th>\n",
       "      <td>5.000000</td>\n",
       "      <td>223.000000</td>\n",
       "    </tr>\n",
       "  </tbody>\n",
       "</table>\n",
       "</div>"
      ],
      "text/plain": [
       "           rating     reviews\n",
       "count  643.000000  643.000000\n",
       "mean     2.734837    7.181960\n",
       "std      2.137756   15.968315\n",
       "min      0.000000    0.000000\n",
       "25%      0.000000    0.000000\n",
       "50%      3.800000    1.000000\n",
       "75%      4.600000    6.000000\n",
       "max      5.000000  223.000000"
      ]
     },
     "execution_count": 9,
     "metadata": {},
     "output_type": "execute_result"
    }
   ],
   "source": [
    "nike_sale_data.describe()"
   ]
  },
  {
   "cell_type": "code",
   "execution_count": 10,
   "id": "ef2aec6f-6ac9-499a-b382-11943b1421c8",
   "metadata": {},
   "outputs": [],
   "source": [
    "nike_sale_data.drop(['discount', 'images'], axis=1, inplace=True)"
   ]
  },
  {
   "cell_type": "code",
   "execution_count": 11,
   "id": "9a6da70a",
   "metadata": {},
   "outputs": [
    {
     "name": "stderr",
     "output_type": "stream",
     "text": [
      "/var/folders/g4/r81kd5l510v2pmssrldrmnkh0000gn/T/ipykernel_2630/3911822546.py:1: FutureWarning: Setting an item of incompatible dtype is deprecated and will raise an error in a future version of pandas. Value '' has dtype incompatible with float64, please explicitly cast to a compatible dtype first.\n",
      "  nike_sale_data.fillna('' , inplace=True)\n",
      "/var/folders/g4/r81kd5l510v2pmssrldrmnkh0000gn/T/ipykernel_2630/3911822546.py:2: FutureWarning: Setting an item of incompatible dtype is deprecated and will raise an error in a future version of pandas. Value '' has dtype incompatible with float64, please explicitly cast to a compatible dtype first.\n",
      "  nike_manufacturing_data.fillna('' , inplace=True)\n"
     ]
    }
   ],
   "source": [
    "nike_sale_data.fillna('' , inplace=True)\n",
    "nike_manufacturing_data.fillna('' , inplace=True)"
   ]
  },
  {
   "cell_type": "code",
   "execution_count": null,
   "id": "5e9e4c6a-ea18-43d2-8771-79be6b198f03",
   "metadata": {},
   "outputs": [],
   "source": []
  },
  {
   "cell_type": "code",
   "execution_count": null,
   "id": "ce8789e9-8cde-48dd-9e94-399e01c4496c",
   "metadata": {},
   "outputs": [],
   "source": []
  },
  {
   "cell_type": "code",
   "execution_count": 12,
   "id": "89fa9519-bd30-4d3a-9c57-30bc18a7edff",
   "metadata": {},
   "outputs": [],
   "source": [
    "nike_sale_data.to_csv('cleaned_nike_sale_data.csv' , index = False)\n",
    "nike_manufacturing_data.to_csv('cleaned_nike_manufacturing_data.csv' , index = False)"
   ]
  },
  {
   "cell_type": "code",
   "execution_count": 13,
   "id": "e8b69615",
   "metadata": {},
   "outputs": [
    {
     "data": {
      "text/plain": [
       "<seaborn.axisgrid.FacetGrid at 0x10cfb8740>"
      ]
     },
     "execution_count": 13,
     "metadata": {},
     "output_type": "execute_result"
    },
    {
     "data": {
      "image/png": "[encoded data removed]",
      "text/plain": [
       "<Figure size 500x500 with 1 Axes>"
      ]
     },
     "metadata": {},
     "output_type": "display_data"
    }
   ],
   "source": [
    "sns.displot(data= nike_sale_data , x = nike_sale_data['sale_price'] ,kde = True)"
   ]
  },
  {
   "cell_type": "code",
   "execution_count": null,
   "id": "16a97645",
   "metadata": {},
   "outputs": [],
   "source": []
  },
  {
   "cell_type": "code",
   "execution_count": null,
   "id": "9cdb2702",
   "metadata": {},
   "outputs": [],
   "source": []
  },
  {
   "cell_type": "code",
   "execution_count": null,
   "id": "92bc16ba",
   "metadata": {},
   "outputs": [],
   "source": []
  },
  {
   "cell_type": "code",
   "execution_count": null,
   "id": "6f2d4f0f",
   "metadata": {},
   "outputs": [],
   "source": []
  },
  {
   "cell_type": "code",
   "execution_count": null,
   "id": "e7fe0417",
   "metadata": {},
   "outputs": [],
   "source": []
  },
  {
   "cell_type": "code",
   "execution_count": null,
   "id": "0f93bd27",
   "metadata": {},
   "outputs": [],
   "source": []
  },
  {
   "cell_type": "code",
   "execution_count": null,
   "id": "5a76ff79",
   "metadata": {},
   "outputs": [],
   "source": []
  },
  {
   "cell_type": "code",
   "execution_count": null,
   "id": "cfae222e",
   "metadata": {},
   "outputs": [],
   "source": []
  },
  {
   "cell_type": "code",
   "execution_count": null,
   "id": "2c9c78a0",
   "metadata": {},
   "outputs": [],
   "source": []
  },
  {
   "cell_type": "code",
   "execution_count": null,
   "id": "79b1aec4",
   "metadata": {},
   "outputs": [],
   "source": []
  },
  {
   "cell_type": "code",
   "execution_count": null,
   "id": "21caf51c",
   "metadata": {},
   "outputs": [],
   "source": []
  },
  {
   "cell_type": "code",
   "execution_count": null,
   "id": "fec751cf",
   "metadata": {},
   "outputs": [],
   "source": []
  },
  {
   "cell_type": "code",
   "execution_count": null,
   "id": "a0b4f4a7",
   "metadata": {},
   "outputs": [],
   "source": []
  },
  {
   "cell_type": "code",
   "execution_count": null,
   "id": "9cfa87bd",
   "metadata": {},
   "outputs": [],
   "source": []
  }
 ],
 "metadata": {
  "kernelspec": {
   "display_name": "Python 3 (ipykernel)",
   "language": "python",
   "name": "python3"
  },
  "language_info": {
   "codemirror_mode": {
    "name": "ipython",
    "version": 3
   },
   "file_extension": ".py",
   "mimetype": "text/x-python",
   "name": "python",
   "nbconvert_exporter": "python",
   "pygments_lexer": "ipython3",
   "version": "3.12.6"
  }
 },
 "nbformat": 4,
 "nbformat_minor": 5
}
